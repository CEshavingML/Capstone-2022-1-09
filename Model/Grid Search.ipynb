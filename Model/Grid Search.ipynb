{
 "cells": [
  {
   "cell_type": "code",
   "execution_count": null,
   "id": "85c939d5",
   "metadata": {},
   "outputs": [],
   "source": [
    "from collections import Counter\n",
    "import pandas as pd\n",
    "import numpy as np\n",
    "from sklearn.model_selection import train_test_split\n",
    "from sklearn.metrics import f1_score\n",
    "import pandas\n",
    "from sklearn.model_selection import GridSearchCV\n",
    "from keras.optimizers import SGD\n",
    "from keras.optimizers import RMSprop\n",
    "from sklearn.model_selection import StratifiedKFold\n",
    "from sklearn.decomposition import PCA\n",
    "from sklearn.decomposition import IncrementalPCA\n",
    "from sklearn.model_selection import KFold\n",
    "\n",
    "from keras.utils import to_categorical\n",
    "from collections import Counter\n",
    "import sklearn\n",
    "import tensorflow.keras\n",
    "from sklearn.model_selection import KFold\n",
    "from imblearn.under_sampling import RandomUnderSampler\n",
    "from imblearn.under_sampling import NearMiss\n",
    "from sklearn.model_selection import cross_val_score\n",
    "from sklearn.model_selection import train_test_split\n",
    "from sklearn.pipeline import Pipeline\n",
    "from sklearn.ensemble import RandomForestClassifier\n",
    "from sklearn.datasets import make_classification\n",
    "from sklearn.metrics import accuracy_score\n",
    "from sklearn.feature_selection import SelectFromModel"
   ]
  },
  {
   "cell_type": "code",
   "execution_count": null,
   "id": "96ed45b4",
   "metadata": {},
   "outputs": [],
   "source": [
    "def create_model():\n",
    "    model = Sequential()\n",
    "    opt=RMSprop(lr=0.00014, rho=0.9, epsilon=None, decay=0.0)\n",
    "    model.add(Dense(128, input_dim=x_resampled.shape[1], activation='relu')) \n",
    "    tf.keras.layers.AlphaDropout(0.3, noise_shape=None, seed=None) \n",
    "    model.add(Dense(128, activation='relu'))\n",
    "    tf.keras.layers.AlphaDropout(0.3, noise_shape=None, seed=None) \n",
    "    model.add(Dense(128, activation='relu'))\n",
    "    tf.keras.layers.AlphaDropout(0.3, noise_shape=None, seed=None) \n",
    "    model.add(Dense(128, activation='relu'))\n",
    "    tf.keras.layers.AlphaDropout(0.3, noise_shape=None, seed=None) \n",
    "    model.add(Dense(128, activation='relu'))\n",
    "    tf.keras.layers.AlphaDropout(0.3, noise_shape=None, seed=None) \n",
    "    model.add(Dense(128, activation='relu'))\n",
    "    tf.keras.layers.AlphaDropout(0.3, noise_shape=None, seed=None) \n",
    "    model.add(Dense(1, activation='sigmoid')) \n",
    "    model.compile(loss='binary_crossentropy', optimizer=opt, metrics=['accuracy']) \n",
    "    return model"
   ]
  },
  {
   "cell_type": "markdown",
   "id": "98f7a4c1",
   "metadata": {},
   "source": [
    "## Batch size와 epochs 파라미터 튜닝"
   ]
  },
  {
   "cell_type": "code",
   "execution_count": null,
   "id": "e883b31d",
   "metadata": {},
   "outputs": [],
   "source": [
    "seed = 6\n",
    "np.random.seed(seed)\n",
    "model = KerasClassifier(build_fn = create_model, verbose =1)\n",
    "\n",
    "batch_size = [50, 200, 100]\n",
    "epochs = [50, 100,200]\n",
    "param_grid = dict(batch_size=batch_size, epochs=epochs)\n",
    "\n",
    "grid = GridSearchCV(estimator = model, param_grid = param_grid, \n",
    "                    cv = KFold(random_state=seed,shuffle=True), verbose =1)\n",
    "\n",
    "grid_results = grid.fit(x_resampled, y_resampled) \n",
    "print(\"Best: {0}, using {1}\".format(\n",
    "                        grid_results.best_score_, grid_results.best_params_))\n",
    "\n",
    "means = grid_results.cv_results_['mean_test_score'] \n",
    "stds = grid_results.cv_results_['std_test_score'] \n",
    "params = grid_results.cv_results_['params']\n",
    "\n",
    "for mean, stdev, param in zip(means, stds, params):\n",
    "    print('{0} ({1}) with: {2}'.format(mean, stdev, param))"
   ]
  },
  {
   "cell_type": "markdown",
   "id": "f924fd8e",
   "metadata": {},
   "source": [
    "## Learning Rate와 rho 파라미터 튜닝"
   ]
  },
  {
   "cell_type": "code",
   "execution_count": null,
   "id": "72e44644",
   "metadata": {},
   "outputs": [],
   "source": [
    "seed =6\n",
    "\n",
    "np.random.seed(seed)\n",
    "\n",
    "model = KerasClassifier(build_fn = create_model, epochs =5, batch_size =20, verbose =0)\n",
    "\n",
    "rho = [0.9, 0.8, 0.7]\n",
    "lr = [0.0001, 0.001, 0.00001]\n",
    "\n",
    "param_grid = dict(lr=lr, rho=rho)\n",
    "\n",
    "grid = GridSearchCV(estimator = model, param_grid = param_grid,\n",
    "        cv = KFold(random_state=seed,shuffle=True), verbose =1) \n",
    "grid_results = grid.fit(x_resampled, y_resampled)"
   ]
  }
 ],
 "metadata": {
  "kernelspec": {
   "display_name": "Python 3 (ipykernel)",
   "language": "python",
   "name": "python3"
  },
  "language_info": {
   "codemirror_mode": {
    "name": "ipython",
    "version": 3
   },
   "file_extension": ".py",
   "mimetype": "text/x-python",
   "name": "python",
   "nbconvert_exporter": "python",
   "pygments_lexer": "ipython3",
   "version": "3.10.6"
  }
 },
 "nbformat": 4,
 "nbformat_minor": 5
}
