{
 "cells": [
  {
   "cell_type": "code",
   "execution_count": 3,
   "id": "6bde1776",
   "metadata": {},
   "outputs": [
    {
     "ename": "KeyboardInterrupt",
     "evalue": "",
     "output_type": "error",
     "traceback": [
      "\u001b[0;31m---------------------------------------------------------------------------\u001b[0m",
      "\u001b[0;31mKeyboardInterrupt\u001b[0m                         Traceback (most recent call last)",
      "Cell \u001b[0;32mIn [3], line 10\u001b[0m\n\u001b[1;32m      6\u001b[0m \u001b[38;5;28;01mimport\u001b[39;00m \u001b[38;5;21;01mpandas\u001b[39;00m\n\u001b[1;32m      7\u001b[0m \u001b[38;5;28;01mimport\u001b[39;00m \u001b[38;5;21;01mmatplotlib\u001b[39;00m\u001b[38;5;21;01m.\u001b[39;00m\u001b[38;5;21;01mpyplot\u001b[39;00m \u001b[38;5;28;01mas\u001b[39;00m \u001b[38;5;21;01mplt\u001b[39;00m\n\u001b[0;32m---> 10\u001b[0m \u001b[38;5;28;01mfrom\u001b[39;00m \u001b[38;5;21;01mkeras\u001b[39;00m\u001b[38;5;21;01m.\u001b[39;00m\u001b[38;5;21;01moptimizers\u001b[39;00m \u001b[38;5;28;01mimport\u001b[39;00m SGD\n\u001b[1;32m     11\u001b[0m \u001b[38;5;28;01mfrom\u001b[39;00m \u001b[38;5;21;01mkeras\u001b[39;00m\u001b[38;5;21;01m.\u001b[39;00m\u001b[38;5;21;01moptimizers\u001b[39;00m \u001b[38;5;28;01mimport\u001b[39;00m RMSprop\n\u001b[1;32m     12\u001b[0m \u001b[38;5;28;01mfrom\u001b[39;00m \u001b[38;5;21;01msklearn\u001b[39;00m\u001b[38;5;21;01m.\u001b[39;00m\u001b[38;5;21;01mmodel_selection\u001b[39;00m \u001b[38;5;28;01mimport\u001b[39;00m StratifiedKFold\n",
      "File \u001b[0;32m/opt/homebrew/lib/python3.10/site-packages/keras/__init__.py:21\u001b[0m\n\u001b[1;32m     15\u001b[0m \u001b[38;5;124;03m\"\"\"Implementation of the Keras API, the high-level API of TensorFlow.\u001b[39;00m\n\u001b[1;32m     16\u001b[0m \n\u001b[1;32m     17\u001b[0m \u001b[38;5;124;03mDetailed documentation and user guides are available at\u001b[39;00m\n\u001b[1;32m     18\u001b[0m \u001b[38;5;124;03m[keras.io](https://keras.io).\u001b[39;00m\n\u001b[1;32m     19\u001b[0m \u001b[38;5;124;03m\"\"\"\u001b[39;00m\n\u001b[1;32m     20\u001b[0m \u001b[38;5;66;03m# pylint: disable=unused-import\u001b[39;00m\n\u001b[0;32m---> 21\u001b[0m \u001b[38;5;28;01mfrom\u001b[39;00m \u001b[38;5;21;01mtensorflow\u001b[39;00m\u001b[38;5;21;01m.\u001b[39;00m\u001b[38;5;21;01mpython\u001b[39;00m \u001b[38;5;28;01mimport\u001b[39;00m tf2\n\u001b[1;32m     22\u001b[0m \u001b[38;5;28;01mfrom\u001b[39;00m \u001b[38;5;21;01mkeras\u001b[39;00m \u001b[38;5;28;01mimport\u001b[39;00m distribute\n\u001b[1;32m     24\u001b[0m \u001b[38;5;28;01mfrom\u001b[39;00m \u001b[38;5;21;01mkeras\u001b[39;00m \u001b[38;5;28;01mimport\u001b[39;00m models\n",
      "File \u001b[0;32m/opt/homebrew/lib/python3.10/site-packages/tensorflow/__init__.py:37\u001b[0m\n\u001b[1;32m     34\u001b[0m \u001b[38;5;28;01mimport\u001b[39;00m \u001b[38;5;21;01msys\u001b[39;00m \u001b[38;5;28;01mas\u001b[39;00m \u001b[38;5;21;01m_sys\u001b[39;00m\n\u001b[1;32m     35\u001b[0m \u001b[38;5;28;01mimport\u001b[39;00m \u001b[38;5;21;01mtyping\u001b[39;00m \u001b[38;5;28;01mas\u001b[39;00m \u001b[38;5;21;01m_typing\u001b[39;00m\n\u001b[0;32m---> 37\u001b[0m \u001b[38;5;28;01mfrom\u001b[39;00m \u001b[38;5;21;01mtensorflow\u001b[39;00m\u001b[38;5;21;01m.\u001b[39;00m\u001b[38;5;21;01mpython\u001b[39;00m\u001b[38;5;21;01m.\u001b[39;00m\u001b[38;5;21;01mtools\u001b[39;00m \u001b[38;5;28;01mimport\u001b[39;00m module_util \u001b[38;5;28;01mas\u001b[39;00m _module_util\n\u001b[1;32m     38\u001b[0m \u001b[38;5;28;01mfrom\u001b[39;00m \u001b[38;5;21;01mtensorflow\u001b[39;00m\u001b[38;5;21;01m.\u001b[39;00m\u001b[38;5;21;01mpython\u001b[39;00m\u001b[38;5;21;01m.\u001b[39;00m\u001b[38;5;21;01mutil\u001b[39;00m\u001b[38;5;21;01m.\u001b[39;00m\u001b[38;5;21;01mlazy_loader\u001b[39;00m \u001b[38;5;28;01mimport\u001b[39;00m LazyLoader \u001b[38;5;28;01mas\u001b[39;00m _LazyLoader\n\u001b[1;32m     40\u001b[0m \u001b[38;5;66;03m# Make sure code inside the TensorFlow codebase can use tf2.enabled() at import.\u001b[39;00m\n",
      "File \u001b[0;32m/opt/homebrew/lib/python3.10/site-packages/tensorflow/python/__init__.py:36\u001b[0m\n\u001b[1;32m     27\u001b[0m \u001b[38;5;28;01mimport\u001b[39;00m \u001b[38;5;21;01mtraceback\u001b[39;00m\n\u001b[1;32m     29\u001b[0m \u001b[38;5;66;03m# We aim to keep this file minimal and ideally remove completely.\u001b[39;00m\n\u001b[1;32m     30\u001b[0m \u001b[38;5;66;03m# If you are adding a new file with @tf_export decorators,\u001b[39;00m\n\u001b[1;32m     31\u001b[0m \u001b[38;5;66;03m# import it in modules_with_exports.py instead.\u001b[39;00m\n\u001b[1;32m     32\u001b[0m \n\u001b[1;32m     33\u001b[0m \u001b[38;5;66;03m# go/tf-wildcard-import\u001b[39;00m\n\u001b[1;32m     34\u001b[0m \u001b[38;5;66;03m# pylint: disable=wildcard-import,g-bad-import-order,g-import-not-at-top\u001b[39;00m\n\u001b[0;32m---> 36\u001b[0m \u001b[38;5;28;01mfrom\u001b[39;00m \u001b[38;5;21;01mtensorflow\u001b[39;00m\u001b[38;5;21;01m.\u001b[39;00m\u001b[38;5;21;01mpython\u001b[39;00m \u001b[38;5;28;01mimport\u001b[39;00m pywrap_tensorflow \u001b[38;5;28;01mas\u001b[39;00m _pywrap_tensorflow\n\u001b[1;32m     37\u001b[0m \u001b[38;5;28;01mfrom\u001b[39;00m \u001b[38;5;21;01mtensorflow\u001b[39;00m\u001b[38;5;21;01m.\u001b[39;00m\u001b[38;5;21;01mpython\u001b[39;00m\u001b[38;5;21;01m.\u001b[39;00m\u001b[38;5;21;01meager\u001b[39;00m \u001b[38;5;28;01mimport\u001b[39;00m context\n\u001b[1;32m     39\u001b[0m \u001b[38;5;66;03m# pylint: enable=wildcard-import\u001b[39;00m\n\u001b[1;32m     40\u001b[0m \n\u001b[1;32m     41\u001b[0m \u001b[38;5;66;03m# Bring in subpackages.\u001b[39;00m\n",
      "File \u001b[0;32m/opt/homebrew/lib/python3.10/site-packages/tensorflow/python/pywrap_tensorflow.py:62\u001b[0m\n\u001b[1;32m     60\u001b[0m \u001b[38;5;66;03m# pylint: disable=wildcard-import,g-import-not-at-top,line-too-long,undefined-variable\u001b[39;00m\n\u001b[1;32m     61\u001b[0m \u001b[38;5;28;01mtry\u001b[39;00m:\n\u001b[0;32m---> 62\u001b[0m   \u001b[38;5;28;01mfrom\u001b[39;00m \u001b[38;5;21;01mtensorflow\u001b[39;00m\u001b[38;5;21;01m.\u001b[39;00m\u001b[38;5;21;01mpython\u001b[39;00m\u001b[38;5;21;01m.\u001b[39;00m\u001b[38;5;21;01m_pywrap_tensorflow_internal\u001b[39;00m \u001b[38;5;28;01mimport\u001b[39;00m \u001b[38;5;241m*\u001b[39m\n\u001b[1;32m     63\u001b[0m \u001b[38;5;66;03m# This try catch logic is because there is no bazel equivalent for py_extension.\u001b[39;00m\n\u001b[1;32m     64\u001b[0m \u001b[38;5;66;03m# Externally in opensource we must enable exceptions to load the shared object\u001b[39;00m\n\u001b[1;32m     65\u001b[0m \u001b[38;5;66;03m# by exposing the PyInit symbols with pybind. This error will only be\u001b[39;00m\n\u001b[1;32m     66\u001b[0m \u001b[38;5;66;03m# caught internally or if someone changes the name of the target _pywrap_tensorflow_internal.\u001b[39;00m\n\u001b[1;32m     67\u001b[0m \n\u001b[1;32m     68\u001b[0m \u001b[38;5;66;03m# This logic is used in other internal projects using py_extension.\u001b[39;00m\n\u001b[1;32m     69\u001b[0m \u001b[38;5;28;01mexcept\u001b[39;00m \u001b[38;5;167;01mModuleNotFoundError\u001b[39;00m:\n",
      "\u001b[0;31mKeyboardInterrupt\u001b[0m: "
     ]
    }
   ],
   "source": [
    "from collections import Counter\n",
    "import pandas as pd\n",
    "import numpy as np\n",
    "from sklearn.model_selection import train_test_split\n",
    "from sklearn.metrics import f1_score\n",
    "import pandas\n",
    "import matplotlib.pyplot as plt\n",
    "\n",
    "\n",
    "from keras.optimizers import SGD\n",
    "from keras.optimizers import RMSprop\n",
    "from sklearn.model_selection import StratifiedKFold\n",
    "from sklearn.decomposition import PCA\n",
    "from sklearn.decomposition import IncrementalPCA\n",
    "from sklearn.model_selection import KFold\n",
    "\n",
    "from keras.utils import to_categorical\n",
    "from collections import Counter\n",
    "import sklearn\n",
    "import tensorflow.keras\n",
    "#from sklearn.cross_validation import cross_val_score\n",
    "from sklearn.model_selection import cross_val_score\n",
    "from sklearn.model_selection import KFold\n",
    "from imblearn.under_sampling import RandomUnderSampler\n",
    "from imblearn.under_sampling import NearMiss\n",
    "from sklearn.model_selection import cross_val_score\n",
    "from sklearn.model_selection import train_test_split\n",
    "from sklearn.pipeline import Pipeline\n",
    "from sklearn.model_selection import train_test_split\n",
    "#from sklearn.cross_validation import cross_val_score\n",
    "#from sklearn.model_selection import train_test_split\n",
    "from sklearn.ensemble import RandomForestClassifier\n",
    "from sklearn.datasets import make_classification\n",
    "from sklearn.metrics import accuracy_score\n",
    "from sklearn.feature_selection import SelectFromModel"
   ]
  },
  {
   "cell_type": "code",
   "execution_count": null,
   "id": "dd2e5404",
   "metadata": {},
   "outputs": [],
   "source": [
    "from scikeras.wrappers import KerasClassifier"
   ]
  },
  {
   "cell_type": "code",
   "execution_count": null,
   "id": "bb849b46",
   "metadata": {},
   "outputs": [],
   "source": [
    "from tensorflow.keras.models import Sequential\n",
    "from tensorflow.keras.layers import Dense, Dropout, Activation\n",
    "from tensorflow.keras import regularizers\n",
    "from tensorflow.keras.wrappers.scikit_learn import KerasClassifier\n",
    "from tensorflow.keras.models import Sequential\n",
    "from tensorflow.keras.layers import Conv2D, MaxPooling2D, Dense, Flatten\n",
    "from sklearn.tree import DecisionTreeClassifier\n",
    "from sklearn.ensemble import AdaBoostClassifier\n",
    "from sklearn.ensemble import GradientBoostingClassifier\n",
    "from tensorflow.keras.layers import *\n",
    "from tensorflow.keras.models import *\n",
    "from tensorflow.keras.utils import *"
   ]
  },
  {
   "cell_type": "code",
   "execution_count": null,
   "id": "b5025fea",
   "metadata": {},
   "outputs": [],
   "source": [
    "from imblearn.under_sampling import NeighbourhoodCleaningRule\n",
    "from xgboost import XGBClassifier"
   ]
  },
  {
   "cell_type": "code",
   "execution_count": null,
   "id": "3df40104",
   "metadata": {},
   "outputs": [],
   "source": [
    "import autokeras as ak\n"
   ]
  },
  {
   "cell_type": "code",
   "execution_count": null,
   "id": "e95ace15",
   "metadata": {},
   "outputs": [],
   "source": [
    "import module"
   ]
  },
  {
   "cell_type": "code",
   "execution_count": null,
   "id": "13ce2a25",
   "metadata": {},
   "outputs": [],
   "source": [
    "#------ dataset\n",
    "#dataset = pandas.read_csv(\"meta_data.csv\")\n",
    "#x=dataset.iloc[: ,3:]\n",
    "#y=dataset['bound']\n",
    "#------\n",
    "\n",
    "#---- test\n",
    "\n",
    "#dataset = pandas.read_csv(\"Dataset.csv\")\n",
    "x = dataset.iloc[: ,1:]\n",
    "y = dataset['Class']\n",
    "\n",
    "#---- resam\n",
    "x_resampled, y_resampled = module.getResample(x,y)"
   ]
  },
  {
   "cell_type": "code",
   "execution_count": null,
   "id": "d4658ca1",
   "metadata": {},
   "outputs": [],
   "source": [
    "y_resampled.shape"
   ]
  },
  {
   "cell_type": "code",
   "execution_count": null,
   "id": "4c08b9f4",
   "metadata": {},
   "outputs": [],
   "source": [
    "model.fit(x_resampled,y_resampled,epochs=100)"
   ]
  },
  {
   "cell_type": "code",
   "execution_count": null,
   "id": "d1be1396",
   "metadata": {},
   "outputs": [],
   "source": [
    "# 0.812\n",
    "module.testModel(x_resampled,y_resampled,0)"
   ]
  },
  {
   "cell_type": "code",
   "execution_count": null,
   "id": "a314c802",
   "metadata": {},
   "outputs": [],
   "source": [
    "# autokeras\n",
    "ga.testModel(x_resampled,y_resampled,1)"
   ]
  },
  {
   "cell_type": "code",
   "execution_count": null,
   "id": "bc552c02",
   "metadata": {},
   "outputs": [],
   "source": [
    "# adaboost\n",
    "ga.testModel(x_resampled,y_resampled,2)"
   ]
  },
  {
   "cell_type": "code",
   "execution_count": null,
   "id": "bf1150c6",
   "metadata": {},
   "outputs": [],
   "source": [
    "# Gradient Boosting\n",
    "ga.testModel(x_resampled,y_resampled,3)"
   ]
  },
  {
   "cell_type": "code",
   "execution_count": null,
   "id": "dc2e8a22",
   "metadata": {},
   "outputs": [],
   "source": [
    "# LSTM\n",
    "ga.testModel(x_resampled,y_resampled,4)"
   ]
  },
  {
   "cell_type": "code",
   "execution_count": null,
   "id": "a05d0955",
   "metadata": {},
   "outputs": [],
   "source": [
    "# XGBoost\n",
    "ga.testModel(x_resampled,y_resampled,5)"
   ]
  },
  {
   "cell_type": "code",
   "execution_count": null,
   "id": "88093052",
   "metadata": {},
   "outputs": [],
   "source": [
    "# CNN\n",
    "ga.testModel(x_resampled,y_resampled,6)"
   ]
  },
  {
   "cell_type": "markdown",
   "id": "8726fbfc",
   "metadata": {},
   "source": [
    "#### 7번째 모델 f1-score: 0.849로 2번째로 높음"
   ]
  },
  {
   "cell_type": "code",
   "execution_count": null,
   "id": "dd7eb72b",
   "metadata": {},
   "outputs": [],
   "source": [
    "# 0.849\n",
    "ga.testModel(x_resampled,y_resampled,7)"
   ]
  },
  {
   "cell_type": "code",
   "execution_count": null,
   "id": "70d5b8e1",
   "metadata": {},
   "outputs": [],
   "source": [
    "# 0.824\n",
    "ga.testModel(x_resampled,y_resampled,8)"
   ]
  },
  {
   "cell_type": "code",
   "execution_count": null,
   "id": "4442a7d9",
   "metadata": {},
   "outputs": [],
   "source": [
    "# 0.822\n",
    "ga.testModel(x_resampled,y_resampled,9)"
   ]
  },
  {
   "cell_type": "code",
   "execution_count": null,
   "id": "090513ee",
   "metadata": {},
   "outputs": [],
   "source": [
    "# 0.815\n",
    "ga.testModel(x_resampled,y_resampled,10)"
   ]
  },
  {
   "cell_type": "code",
   "execution_count": null,
   "id": "7b8df5ab",
   "metadata": {},
   "outputs": [],
   "source": [
    "# 0.831\n",
    "ga.testModel(x_resampled,y_resampled,11,100)"
   ]
  },
  {
   "cell_type": "code",
   "execution_count": null,
   "id": "6d84e3d5",
   "metadata": {},
   "outputs": [],
   "source": [
    "# 0.830\n",
    "ga.testModel(x_resampled,y_resampled,12,100)"
   ]
  },
  {
   "cell_type": "code",
   "execution_count": null,
   "id": "0898a24a",
   "metadata": {},
   "outputs": [],
   "source": [
    "# 0.833\n",
    "ga.testModel(x_resampled,y_resampled,13,100)"
   ]
  },
  {
   "cell_type": "code",
   "execution_count": null,
   "id": "e412b1ac",
   "metadata": {},
   "outputs": [],
   "source": [
    "# 0.835\n",
    "ga.testModel(x_resampled,y_resampled,14,100)"
   ]
  },
  {
   "cell_type": "markdown",
   "id": "2a2abbf9",
   "metadata": {},
   "source": [
    "#### 15번째 모델 f1-score: 0.856으로 제일 높음"
   ]
  },
  {
   "cell_type": "code",
   "execution_count": null,
   "id": "1cbc4a8f",
   "metadata": {},
   "outputs": [],
   "source": [
    "# 0.856\n",
    "ga.testModel(x_resampled,y_resampled,15,100)"
   ]
  },
  {
   "cell_type": "code",
   "execution_count": null,
   "id": "29adae90",
   "metadata": {},
   "outputs": [],
   "source": [
    "# 0.81\n",
    "ga.testModel(x_resampled,y_resampled,16,100)"
   ]
  },
  {
   "cell_type": "code",
   "execution_count": null,
   "id": "54f2caaa",
   "metadata": {},
   "outputs": [],
   "source": [
    "# 0.782\n",
    "ga.testModel(x_resampled,y_resampled,17,100)"
   ]
  },
  {
   "cell_type": "code",
   "execution_count": null,
   "id": "f6f9e831",
   "metadata": {},
   "outputs": [],
   "source": [
    "# 0.814\n",
    "ga.testModel(x_resampled,y_resampled,18,100)"
   ]
  },
  {
   "cell_type": "code",
   "execution_count": null,
   "id": "04ed5789",
   "metadata": {},
   "outputs": [],
   "source": [
    "# 0.822\n",
    "ga.testModel(x_resampled,y_resampled,19,100)"
   ]
  },
  {
   "cell_type": "code",
   "execution_count": null,
   "id": "68a72cdd",
   "metadata": {},
   "outputs": [],
   "source": [
    "# 0.812\n",
    "ga.testModel(x_resampled,y_resampled,20,100)"
   ]
  },
  {
   "cell_type": "markdown",
   "id": "65d88802",
   "metadata": {},
   "source": [
    "## Aptanet"
   ]
  },
  {
   "cell_type": "code",
   "execution_count": null,
   "id": "117ef783",
   "metadata": {},
   "outputs": [],
   "source": [
    "ga.testModel(x,y,0)"
   ]
  },
  {
   "cell_type": "markdown",
   "id": "228ef749",
   "metadata": {},
   "source": [
    "## AutoML"
   ]
  },
  {
   "cell_type": "code",
   "execution_count": null,
   "id": "57838066",
   "metadata": {},
   "outputs": [],
   "source": [
    "# 적합한 모델을 못찾음\n",
    "testModel(x_resampled,y_resampled,1)"
   ]
  },
  {
   "cell_type": "markdown",
   "id": "fb58addc",
   "metadata": {},
   "source": [
    "## AdaBoost (DT)"
   ]
  },
  {
   "cell_type": "code",
   "execution_count": null,
   "id": "c8fede92",
   "metadata": {},
   "outputs": [],
   "source": [
    "# 0.867\n",
    "ga.testModel(x_resampled,y_resampled,2)"
   ]
  },
  {
   "cell_type": "markdown",
   "id": "0e5f041f",
   "metadata": {},
   "source": [
    "## Gradient Boosting"
   ]
  },
  {
   "cell_type": "code",
   "execution_count": null,
   "id": "71b4d8e2",
   "metadata": {},
   "outputs": [],
   "source": [
    "# 0.817\n",
    "ga.testModel(x_resampled,y_resampled,3)"
   ]
  },
  {
   "cell_type": "markdown",
   "id": "2c7e5dd4",
   "metadata": {},
   "source": [
    "## LSTM "
   ]
  },
  {
   "cell_type": "code",
   "execution_count": null,
   "id": "89aa0718",
   "metadata": {},
   "outputs": [],
   "source": [
    "\n",
    "ga.testModel(x_resampled,y_resampled,4)"
   ]
  },
  {
   "cell_type": "markdown",
   "id": "60af7675",
   "metadata": {},
   "source": [
    "## XGBoost"
   ]
  },
  {
   "cell_type": "code",
   "execution_count": null,
   "id": "8898ee92",
   "metadata": {},
   "outputs": [],
   "source": [
    "# 0.898\n",
    "ga.testModel(x_resampled,y_resampled,5)"
   ]
  },
  {
   "cell_type": "code",
   "execution_count": null,
   "id": "a50dd309",
   "metadata": {},
   "outputs": [],
   "source": []
  }
 ],
 "metadata": {
  "kernelspec": {
   "display_name": "Python 3 (ipykernel)",
   "language": "python",
   "name": "python3"
  },
  "language_info": {
   "codemirror_mode": {
    "name": "ipython",
    "version": 3
   },
   "file_extension": ".py",
   "mimetype": "text/x-python",
   "name": "python",
   "nbconvert_exporter": "python",
   "pygments_lexer": "ipython3",
   "version": "3.10.6"
  }
 },
 "nbformat": 4,
 "nbformat_minor": 5
}
