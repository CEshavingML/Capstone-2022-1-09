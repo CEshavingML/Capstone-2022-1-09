{
 "cells": [
  {
   "cell_type": "markdown",
   "metadata": {},
   "source": [
    "# 기본 라이브러리 불러오기"
   ]
  },
  {
   "cell_type": "code",
   "execution_count": 1,
   "metadata": {},
   "outputs": [],
   "source": [
    "import os\n",
    "import numpy as np\n",
    "import pandas as pd"
   ]
  },
  {
   "cell_type": "markdown",
   "metadata": {},
   "source": [
    "# 파라미터 세팅"
   ]
  },
  {
   "cell_type": "code",
   "execution_count": 21,
   "metadata": {},
   "outputs": [],
   "source": [
    "# 각 dataframe에서 몇 퍼센트 가량 데이터 추출할지 결정\n",
    "percentage = 0.2\n",
    "\n",
    "# 최소 샘플링 데이터 개수. 만일 전체 데이터가 이것보다 작으면 모든 데이터를 추출\n",
    "min_sample = 1000\n",
    "\n",
    "# 최대 샘플링 데이터 개수. 최소/최대 반대로 값 작성 시 논리오류 발생할 수 있음\n",
    "max_sample = 10000"
   ]
  },
  {
   "cell_type": "markdown",
   "metadata": {},
   "source": [
    "# 샘플링\n",
    "* 파일 구조\n",
    "\n",
    "{현재 프로젝트 폴더}\n",
    "\n",
    "ㄴIntegration_n_Sampling.ipynb\n",
    "\n",
    "ㄴ{data}\n",
    "\n",
    "　ㄴprotein_data.csv\n",
    " \n",
    "　ㄴ{finalcsv}  // 빈 폴더 (최종 결과가 저장)\n",
    "   \n",
    "　ㄴ{metacsv}\n",
    "   \n",
    "　　ㄴmetadata#단백질명#시퀀스.csv 파일들 존재\n",
    "      "
   ]
  },
  {
   "cell_type": "code",
   "execution_count": 23,
   "metadata": {},
   "outputs": [
    {
     "name": "stdout",
     "output_type": "stream",
     "text": [
      "Atf4_DBD 진행 중....  >>완료!<<  [>  추출된 사이즈: 1000\n",
      "BARHL2_FL 진행 중....  >>완료!<<  [>  추출된 사이즈: 10000\n",
      "Creb5_DBD 진행 중....  >>완료!<<  [>  추출된 사이즈: 7061\n",
      "FOXJ3_DBD 진행 중....  >>완료!<<  [>  추출된 사이즈: 10000\n",
      "ZNF740_DBD 진행 중....  >>완료!<<  [>  추출된 사이즈: 6329\n"
     ]
    }
   ],
   "source": [
    "nowdir = os.getcwd()\n",
    "datadir = nowdir + '/data/metacsv'\n",
    "\n",
    "protein_data = pd.read_csv(nowdir + '/data/protein_data.csv')\n",
    "\n",
    "file_list = os.listdir(datadir)\n",
    "\n",
    "for file in file_list:\n",
    "    now_protein = file.split('#')[1]\n",
    "    file_name = file\n",
    "    print(now_protein + ' 진행 중....  ', end='')\n",
    "\n",
    "    datafile = datadir + '/' + file_name\n",
    "    nowdf = pd.read_csv(datafile)\n",
    "    \n",
    "    nowsize = len(nowdf)\n",
    "    sample_size = min(nowsize, max(min_sample, min(int(nowsize*percentage), max_sample)))\n",
    "    \n",
    "    one_protein = protein_data[protein_data.seq  == now_protein]\n",
    "\n",
    "    nowdf_rand = nowdf.sample(n=sample_size)\n",
    "    \n",
    "    nowdf_cut = nowdf_rand.drop(['seq'], axis=1)\n",
    "    nowdf_cut.protein = now_protein\n",
    "\n",
    "    one_full_data = pd.merge(nowdf_cut, one_protein, left_on='protein', right_on='seq').drop(['protein'], axis=1)\n",
    "    # 실제 파일 저장.\n",
    "    one_full_data.to_csv(nowdir + '/data/finalcsv/sample#' + now_protein + '.csv', index = False)\n",
    "    print('>>완료!<<', end='  [>  ')\n",
    "    print('추출된 사이즈: ' + str(sample_size))\n"
   ]
  }
 ],
 "metadata": {
  "kernelspec": {
   "display_name": "Python 3",
   "language": "python",
   "name": "python3"
  },
  "language_info": {
   "codemirror_mode": {
    "name": "ipython",
    "version": 3
   },
   "file_extension": ".py",
   "mimetype": "text/x-python",
   "name": "python",
   "nbconvert_exporter": "python",
   "pygments_lexer": "ipython3",
   "version": "3.8.5"
  }
 },
 "nbformat": 4,
 "nbformat_minor": 4
}
